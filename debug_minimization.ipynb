{
 "cells": [
  {
   "cell_type": "code",
   "execution_count": 18,
   "id": "df68adca-4011-4e2a-bd8d-4b529eb41b9e",
   "metadata": {},
   "outputs": [],
   "source": [
    "import stats_funcs.likelihood_ratio as lr\n",
    "\n",
    "import json\n",
    "import pandas as pd\n",
    "import numpy as np\n",
    "\n",
    "from scipy.integrate import quad\n",
    "from scipy.optimize import minimize"
   ]
  },
  {
   "cell_type": "markdown",
   "id": "4dd69737-fb49-4fa8-b01c-097cdb85ebee",
   "metadata": {},
   "source": [
    "# Current solution"
   ]
  },
  {
   "cell_type": "code",
   "execution_count": 19,
   "id": "4d538e4d-d5d5-43d0-81b8-d400869bd4f2",
   "metadata": {},
   "outputs": [],
   "source": [
    "sample = json.load(open('data/snls_snia.json'))\n",
    "\n",
    "df = pd.DataFrame(sample)"
   ]
  },
  {
   "cell_type": "code",
   "execution_count": 20,
   "id": "3b960242-d963-4c22-98d7-3a0aaa470660",
   "metadata": {},
   "outputs": [
    {
     "data": {
      "text/plain": [
       " final_simplex: (array([[ 0.5616612 ,  0.        , -1.10103514, 70.15611476],\n",
       "       [ 0.56166111,  0.        , -1.10103542, 70.15611557],\n",
       "       [ 0.56166108,  0.        , -1.10103544, 70.15611549],\n",
       "       [ 0.56166127,  0.        , -1.10103503, 70.15611506],\n",
       "       [ 0.56166114,  0.        , -1.10103539, 70.1561155 ]]), array([110.94386128, 110.94386128, 110.94386128, 110.94386128,\n",
       "       110.94386128]))\n",
       "           fun: 110.94386128057224\n",
       "       message: 'Optimization terminated successfully.'\n",
       "          nfev: 638\n",
       "           nit: 378\n",
       "        status: 0\n",
       "       success: True\n",
       "             x: array([ 0.5616612 ,  0.        , -1.10103514, 70.15611476])"
      ]
     },
     "execution_count": 20,
     "metadata": {},
     "output_type": "execute_result"
    }
   ],
   "source": [
    "x0 = [0.76, 0.24, -1, 71] #['Omega_l', 'Omega_m', 'w',  'Hubble']\n",
    "\n",
    "minimize(lr.h, x0 = x0, args = ({}, df), method = 'Nelder-Mead', tol = 1e-6, bounds = ((0,1), (0,1), (-1.5, 0), (0, None)), options = {'maxiter': 10000})"
   ]
  },
  {
   "cell_type": "markdown",
   "id": "cc6e02a7-9fae-4286-aa0e-bc6c11392537",
   "metadata": {},
   "source": [
    "# With array input"
   ]
  },
  {
   "cell_type": "code",
   "execution_count": 21,
   "id": "504640f9-c8b0-42cb-ab30-c5181e73d5ca",
   "metadata": {
    "jupyter": {
     "source_hidden": true
    },
    "tags": []
   },
   "outputs": [],
   "source": [
    "def Dc(z: float, params) -> float:\n",
    "    \"\"\"\n",
    "    Calculates the adimensional comoving distance using the input parameters.\n",
    "\n",
    "    Parameters:\n",
    "        z (float): The redshift value.\n",
    "        Omega_l (float): The value of the cosmological constant.\n",
    "        Omega_m (float): The value of the matter density parameter.\n",
    "        w (float): The value of the dark energy equation of state.\n",
    "\n",
    "    Returns:\n",
    "        The adimensional comoving distance.\n",
    "        \n",
    "    Notes:\n",
    "        The adimensional comoving distance is the distance that would be traveled \n",
    "        by a photon emitted at redshift z, if the universe were not expanding, \n",
    "        divided by the Hubble distance. This function calculates the comoving \n",
    "        distance by performing a numerical integration of the function f(z, Omega_l, \n",
    "        Omega_m, w) over the redshift range [0, z], where f(z, Omega_l, Omega_m, w) \n",
    "        is defined as:\n",
    "\n",
    "        f(z, Omega_l, Omega_m, w) = 1 / sqrt(Omega_l*(1 + z)**(3 + 3*w) + \n",
    "                                              Omega_m*(1 + z)**3 + \n",
    "                                              Omega_k*(1 + z)**2 + \n",
    "                                              9.2e-5*(1 + z)**4)\n",
    "\n",
    "        where Omega_k = 1 - (Omega_l + Omega_m + 9.2e-5) represents the curvature of \n",
    "        the universe. The result is returned as an adimensional quantity, which \n",
    "        can be converted to physical units of length by multiplying by the Hubble \n",
    "        distance.\n",
    "    \"\"\"\n",
    "    \n",
    "    Omega_k = 1 - (params[0] + params[1] + 9.2e-5)\n",
    "\n",
    "    def f(z, a, b, c):\n",
    "        return 1/(np.sqrt(a*(1 + z)**(3 + 3*c) + b*(1 + z)**3 + Omega_k*(1 + z)**2 + 9.2e-5*(1 + z)**4))\n",
    "    \n",
    "    result = quad(f, 0, z, args = (params[0], params[1], params[2]))[0]\n",
    "\n",
    "    return result\n",
    "\n",
    "def Dt(z: float, params) -> float:\n",
    "    \"\"\"\n",
    "    Calculates the temporal comoving distance using the input parameters.\n",
    "\n",
    "    Parameters:\n",
    "        z (float): The redshift value.\n",
    "        Omega_l (float): The value of the cosmological constant.\n",
    "        Omega_m (float): The value of the matter density parameter.\n",
    "        w (float): The value of the dark energy equation of state.\n",
    "\n",
    "    Returns:\n",
    "        The temporal comoving distance.\n",
    "        \n",
    "    Notes:  \n",
    "        -If Omega_k is greater than 0, the universe is positively curved like a \n",
    "        sphere, and the correction factor involves a sine function.\n",
    "\n",
    "        -If Omega_k is equal to 0, the universe is flat, and no correction factor \n",
    "        is necessary.\n",
    "\n",
    "        -If Omega_k is less than 0, the universe is negatively curved like a saddle, \n",
    "        and the correction factor involves a hyperbolic sine function.\n",
    "    \"\"\"\n",
    "    \n",
    "    Omega_k = 1 - (params[0] + params[1] + 9.2e-5) # Omega_l + Omega_m + Omega_r + Omega_k = 1\n",
    "    \n",
    "    if Omega_k > 0:\n",
    "        return np.sin(np.sqrt(Omega_k)*Dc(z, params))/np.sqrt(Omega_k)\n",
    "    elif Omega_k == 0:\n",
    "        return Dc(z, params)\n",
    "    elif Omega_k:\n",
    "        return np.sinh(np.sqrt(abs(Omega_k))*Dc(z, params))/np.sqrt(abs(Omega_k))\n",
    "\n",
    "def Dl(z: float, params) -> float:\n",
    "    \"\"\"\n",
    "    Calculates the luminosity distance using the input parameters.\n",
    "\n",
    "    Parameters:\n",
    "        z (float): The redshift value.\n",
    "        Omega_l (float): The value of the cosmological constant.\n",
    "        Omega_m (float): The value of the matter density parameter.\n",
    "        w (float): The value of the dark energy equation of state.\n",
    "\n",
    "    Returns:\n",
    "        The luminosity distance.\n",
    "    \"\"\"\n",
    "    \n",
    "    return (1 + z) * Dt(z, params)\n",
    "               \n",
    "def mu(z: float, params) -> float:\n",
    "    \"\"\"\n",
    "    Calculates the distance modulus using the input parameters.\n",
    "\n",
    "    Parameters:\n",
    "        z (float): The redshift value.\n",
    "        Omega_l (float): The value of the cosmological constant.\n",
    "        Omega_m (float): The value of the matter density parameter.\n",
    "        w (float): The value of the dark energy equation of state.\n",
    "        Hubble (float): The Hubble parameter.\n",
    "\n",
    "    Returns:\n",
    "        The distance modulus.\n",
    "    \"\"\"\n",
    "    \n",
    "    c = 3e5 #(km/s)\n",
    "    return 5*np.log10(Dl(z, params)) + 25 + 5*np.log10(c/ params[3])\n",
    "\n",
    "def chi2_i(mu_o: float, sigma_o: float, z_obs: float, params) -> float:\n",
    "    \"\"\"\n",
    "    Calculates the chi-squared value for a single data point using the input parameters.\n",
    "\n",
    "    Parameters:\n",
    "        mu_o (float): The observed distance modulus.\n",
    "        sigma_o (float): The uncertainty in the observed distance modulus.\n",
    "        z_obs (float): The observed redshift value.\n",
    "        Omega_l (float): The value of the cosmological constant.\n",
    "        Omega_m (float): The value of the matter density parameter.\n",
    "        w (float): The value of the dark energy equation of state.\n",
    "        Hubble (float): The Hubble parameter.\n",
    "\n",
    "    Returns:\n",
    "        The chi-squared value for a single data point.\n",
    "    \"\"\"\n",
    "    \n",
    "    _mu = mu(z_obs, params)\n",
    "    return ((_mu - mu_o)**2)/sigma_o**2\n",
    "\n",
    "def chi2(params, df): \n",
    "    \"\"\"\n",
    "    Calculates the chi-squared value for a set of data points using the input parameters.\n",
    "\n",
    "    Parameters:\n",
    "        Omega_l (float): The value of the cosmological constant.\n",
    "        Omega_m (float): The value of the matter density parameter.\n",
    "        w (float): The value of the dark energy equation of state.\n",
    "        Hubble (float): The Hubble parameter.\n",
    "        df (pandas.DataFrame): The dataframe containing the observed redshift values, distance moduli, and uncertainties.\n",
    "\n",
    "    Returns:\n",
    "        The chi-squared value for the set of data points.\n",
    "    \"\"\"\n",
    "    values = []\n",
    "    for idx in df.index:\n",
    "        values.append(chi2_i(df.mu[idx], df.sigma[idx], df.z[idx], params))\n",
    "    result = sum(values)\n",
    "    return result"
   ]
  },
  {
   "cell_type": "code",
   "execution_count": 22,
   "id": "42885454-45ca-41a2-9830-5f20f2bfe426",
   "metadata": {},
   "outputs": [
    {
     "data": {
      "text/plain": [
       " final_simplex: (array([[ 0.5616612 ,  0.        , -1.10103514, 70.15611476],\n",
       "       [ 0.56166111,  0.        , -1.10103542, 70.15611557],\n",
       "       [ 0.56166108,  0.        , -1.10103544, 70.15611549],\n",
       "       [ 0.56166127,  0.        , -1.10103503, 70.15611506],\n",
       "       [ 0.56166114,  0.        , -1.10103539, 70.1561155 ]]), array([110.94386128, 110.94386128, 110.94386128, 110.94386128,\n",
       "       110.94386128]))\n",
       "           fun: 110.94386128057224\n",
       "       message: 'Optimization terminated successfully.'\n",
       "          nfev: 638\n",
       "           nit: 378\n",
       "        status: 0\n",
       "       success: True\n",
       "             x: array([ 0.5616612 ,  0.        , -1.10103514, 70.15611476])"
      ]
     },
     "execution_count": 22,
     "metadata": {},
     "output_type": "execute_result"
    }
   ],
   "source": [
    "minimize(chi2, x0 = x0, args = (df), method = 'Nelder-Mead', tol = 1e-6, bounds = ((0,1), (0,1), (-1.5, 0), (0, None)), options = {'maxiter': 10000})"
   ]
  },
  {
   "cell_type": "markdown",
   "id": "11a09f45-ec69-48a8-94c0-937b05ab0e6d",
   "metadata": {},
   "source": [
    "As we can see, the output received from the redefined functions without the wrapper converged to the same values. This means that the error must be inside the cosmological functions."
   ]
  },
  {
   "cell_type": "code",
   "execution_count": null,
   "id": "d9ecb7da-ccd5-4d3e-bff9-dc84592ff323",
   "metadata": {},
   "outputs": [],
   "source": []
  }
 ],
 "metadata": {
  "kernelspec": {
   "display_name": "Python 3 (ipykernel)",
   "language": "python",
   "name": "python3"
  },
  "language_info": {
   "codemirror_mode": {
    "name": "ipython",
    "version": 3
   },
   "file_extension": ".py",
   "mimetype": "text/x-python",
   "name": "python",
   "nbconvert_exporter": "python",
   "pygments_lexer": "ipython3",
   "version": "3.10.7"
  }
 },
 "nbformat": 4,
 "nbformat_minor": 5
}
