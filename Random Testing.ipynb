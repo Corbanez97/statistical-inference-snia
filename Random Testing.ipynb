{
 "cells": [
  {
   "cell_type": "code",
   "execution_count": 27,
   "id": "0066b66e-23f2-4de9-a756-f54d6b74c2a0",
   "metadata": {},
   "outputs": [],
   "source": [
    "import matplotlib.pyplot as plt\n",
    "from pylab import rcParams\n",
    "\n",
    "import numpy as np\n",
    "import scipy.stats as stats\n",
    "\n",
    "import pickle"
   ]
  },
  {
   "cell_type": "markdown",
   "id": "0111c30e-9b49-4ec7-b9b3-3272b1a58760",
   "metadata": {},
   "source": [
    "# Testing script results"
   ]
  },
  {
   "cell_type": "code",
   "execution_count": 28,
   "id": "ab53cc97-d2ab-4f92-a6d5-d3e42cb6d0a7",
   "metadata": {},
   "outputs": [],
   "source": [
    "with open('data/multiprocessing_log.pickle', 'rb') as handle:\n",
    "    log = pickle.load(handle)"
   ]
  },
  {
   "cell_type": "code",
   "execution_count": 29,
   "id": "62e95bfd-e8be-436b-908b-fb64fc0478b7",
   "metadata": {},
   "outputs": [],
   "source": [
    "sigma1, sigma2, sigma3 = 0.6827, 0.9545, 0.9973\n",
    "lambda1, lambda2, lambda3 = stats.chi2.ppf(sigma1, 2), stats.chi2.ppf(sigma2, 2), stats.chi2.ppf(sigma3, 2)"
   ]
  },
  {
   "cell_type": "code",
   "execution_count": 30,
   "id": "47df4ff9-5785-4401-a681-67515d08fcf2",
   "metadata": {},
   "outputs": [
    {
     "name": "stderr",
     "output_type": "stream",
     "text": [
      "C:\\Users\\lucas.corbanez\\AppData\\Local\\Temp\\ipykernel_12300\\616874641.py:1: VisibleDeprecationWarning: Creating an ndarray from ragged nested sequences (which is a list-or-tuple of lists-or-tuples-or ndarrays with different lengths or shapes) is deprecated. If you meant to do this, you must specify 'dtype=object' when creating the ndarray.\n",
      "  test = np.array(log[100]['result'])\n"
     ]
    }
   ],
   "source": [
    "test = np.array(log[100]['result'])"
   ]
  },
  {
   "cell_type": "code",
   "execution_count": 31,
   "id": "1cacbb10-62b7-45e6-83c3-b5eae7cb3ae0",
   "metadata": {},
   "outputs": [],
   "source": [
    "x, y, c = [], [], []\n",
    "for i in test:\n",
    "    x.append(i[0][0])\n",
    "    y.append(i[0][1])\n",
    "    c.append(10/(1 + 24.4*np.exp(-i[1])))\n",
    "    \n",
    "x = x[1::]\n",
    "y = y[1::]\n",
    "c = c[1::]"
   ]
  },
  {
   "cell_type": "code",
   "execution_count": 32,
   "id": "515cfa8f-3c76-4b53-a035-60f0eb5f6307",
   "metadata": {},
   "outputs": [
    {
     "data": {
      "image/png": "[encoded data removed]",
      "text/plain": [
       "<Figure size 640x480 with 1 Axes>"
      ]
     },
     "metadata": {},
     "output_type": "display_data"
    }
   ],
   "source": [
    "plt.tricontourf(x, y, c, cmap = 'gist_heat_r')\n",
    "\n",
    "plt.xlim(0.6, 0.85)\n",
    "plt.ylim(0.18, 0.33)\n",
    "\n",
    "plt.show()"
   ]
  },
  {
   "cell_type": "markdown",
   "id": "0756021c-0b22-41b1-bec8-e28b140747b7",
   "metadata": {},
   "source": [
    "# Alternative of grid generating"
   ]
  },
  {
   "cell_type": "markdown",
   "id": "d7857aed-a97d-4115-b8ad-48a47a7cc97e",
   "metadata": {},
   "source": [
    "## Generating a grid centered in a seed value"
   ]
  },
  {
   "cell_type": "code",
   "execution_count": 39,
   "id": "cba1d9a8-de2d-43e3-b1a6-ba236c2636a1",
   "metadata": {},
   "outputs": [],
   "source": [
    "def generate_grid(x, y, z):\n",
    "    for i in x:\n",
    "        for j in y:\n",
    "            for k in z:\n",
    "                yield (i, j, k)\n",
    "                \n",
    "def generate_grid_seed(seed, x = [0], y = [0], z = [0]):\n",
    "    for i in x:\n",
    "        for j in y:\n",
    "            for k in z:\n",
    "                yield (seed[0], seed[1], seed[2]) + (i, j, k)"
   ]
  },
  {
   "cell_type": "code",
   "execution_count": 40,
   "id": "260e7c58-5100-463f-a91f-668fd0eee453",
   "metadata": {},
   "outputs": [
    {
     "name": "stdout",
     "output_type": "stream",
     "text": [
      "(0.0, 0.0, 71)\n",
      "(0.0, 0.25, 71)\n",
      "(0.0, 0.5, 71)\n",
      "(0.0, 0.75, 71)\n",
      "(0.0, 1.0, 71)\n",
      "(0.25, 0.0, 71)\n",
      "(0.25, 0.25, 71)\n",
      "(0.25, 0.5, 71)\n",
      "(0.25, 0.75, 71)\n",
      "(0.25, 1.0, 71)\n",
      "(0.5, 0.0, 71)\n",
      "(0.5, 0.25, 71)\n",
      "(0.5, 0.5, 71)\n",
      "(0.5, 0.75, 71)\n",
      "(0.5, 1.0, 71)\n",
      "(0.75, 0.0, 71)\n",
      "(0.75, 0.25, 71)\n",
      "(0.75, 0.5, 71)\n",
      "(0.75, 0.75, 71)\n",
      "(0.75, 1.0, 71)\n",
      "(1.0, 0.0, 71)\n",
      "(1.0, 0.25, 71)\n",
      "(1.0, 0.5, 71)\n",
      "(1.0, 0.75, 71)\n",
      "(1.0, 1.0, 71)\n"
     ]
    }
   ],
   "source": [
    "grid_size = 5\n",
    "\n",
    "for i in generate_grid(np.linspace(0, 1, grid_size), np.linspace(0, 1, grid_size), [71]):\n",
    "    print(i)"
   ]
  },
  {
   "cell_type": "code",
   "execution_count": 41,
   "id": "9c09d266-f0a4-4b13-9e40-4d4186e9d827",
   "metadata": {},
   "outputs": [
    {
     "name": "stdout",
     "output_type": "stream",
     "text": [
      "(0.75, 0.25, 71, 0.0, 0.0, 0)\n",
      "(0.75, 0.25, 71, 0.0, 1.0, 0)\n",
      "(0.75, 0.25, 71, 1.0, 0.0, 0)\n",
      "(0.75, 0.25, 71, 1.0, 1.0, 0)\n"
     ]
    }
   ],
   "source": [
    "grid_size = 2\n",
    "\n",
    "for i in generate_grid_seed(seed = [0.75, 0.25, 71], x = np.linspace(0, 1, grid_size), y = np.linspace(0, 1, grid_size)):\n",
    "    print(i)"
   ]
  },
  {
   "cell_type": "code",
   "execution_count": 152,
   "id": "d41f8a1f-8c0a-4598-9721-77462bfc2ef0",
   "metadata": {},
   "outputs": [],
   "source": [
    "grid_size = 1000\n",
    "seed = [0.75, 0.25, 71]\n",
    "radius = 0.4\n",
    "\n",
    "with_x0 = np.linspace(0.75 - radius, 0.75 + radius, grid_size)\n",
    "without = np.linspace(0, 1, grid_size)"
   ]
  },
  {
   "cell_type": "code",
   "execution_count": 153,
   "id": "ec5b368d-8965-4985-bced-a3ae5a118ccb",
   "metadata": {},
   "outputs": [],
   "source": [
    "without_within = []\n",
    "for i in without:\n",
    "    if 0.75 - radius < i < 0.75 + radius:\n",
    "        without_within.append(i)"
   ]
  },
  {
   "cell_type": "code",
   "execution_count": 154,
   "id": "d294d71b-2d8d-480e-a711-1a6878c3cb41",
   "metadata": {},
   "outputs": [
    {
     "data": {
      "text/plain": [
       "650"
      ]
     },
     "execution_count": 154,
     "metadata": {},
     "output_type": "execute_result"
    }
   ],
   "source": [
    "len(without_within)"
   ]
  },
  {
   "cell_type": "code",
   "execution_count": 155,
   "id": "c048b4f9-3e2a-41e3-bbef-27d282d358af",
   "metadata": {},
   "outputs": [
    {
     "data": {
      "text/plain": [
       "1000"
      ]
     },
     "execution_count": 155,
     "metadata": {},
     "output_type": "execute_result"
    }
   ],
   "source": [
    "len(with_x0)"
   ]
  },
  {
   "cell_type": "code",
   "execution_count": null,
   "id": "ada42fa4-55dd-4d6b-96a0-7d217955c9b2",
   "metadata": {},
   "outputs": [],
   "source": []
  }
 ],
 "metadata": {
  "kernelspec": {
   "display_name": "Python 3 (ipykernel)",
   "language": "python",
   "name": "python3"
  },
  "language_info": {
   "codemirror_mode": {
    "name": "ipython",
    "version": 3
   },
   "file_extension": ".py",
   "mimetype": "text/x-python",
   "name": "python",
   "nbconvert_exporter": "python",
   "pygments_lexer": "ipython3",
   "version": "3.10.7"
  }
 },
 "nbformat": 4,
 "nbformat_minor": 5
}
