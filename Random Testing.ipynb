{
 "cells": [
  {
   "cell_type": "code",
   "execution_count": 67,
   "id": "0066b66e-23f2-4de9-a756-f54d6b74c2a0",
   "metadata": {},
   "outputs": [],
   "source": [
    "import matplotlib.pyplot as plt\n",
    "from pylab import rcParams\n",
    "\n",
    "import numpy as np\n",
    "import pandas as pd\n",
    "import scipy.stats as stats\n",
    "\n",
    "import pickle\n",
    "import json"
   ]
  },
  {
   "cell_type": "markdown",
   "id": "0111c30e-9b49-4ec7-b9b3-3272b1a58760",
   "metadata": {
    "tags": []
   },
   "source": [
    "# Testing script results"
   ]
  },
  {
   "cell_type": "code",
   "execution_count": 303,
   "id": "ab53cc97-d2ab-4f92-a6d5-d3e42cb6d0a7",
   "metadata": {},
   "outputs": [],
   "source": [
    "with open('data/200_Hubble_Omega_l_likelihood_ratio.json', 'rb') as handle:\n",
    "    out = json.load(handle)"
   ]
  },
  {
   "cell_type": "code",
   "execution_count": 304,
   "id": "62e95bfd-e8be-436b-908b-fb64fc0478b7",
   "metadata": {},
   "outputs": [],
   "source": [
    "sigma1, sigma2, sigma3 = 0.6827, 0.9545, 0.9973\n",
    "lambda1, lambda2, lambda3 = stats.chi2.ppf(sigma1, 2), stats.chi2.ppf(sigma2, 2), stats.chi2.ppf(sigma3, 2)"
   ]
  },
  {
   "cell_type": "code",
   "execution_count": 307,
   "id": "7500f67a-72bf-4049-8b29-441d41017296",
   "metadata": {},
   "outputs": [
    {
     "name": "stderr",
     "output_type": "stream",
     "text": [
      "C:\\Users\\lucas.corbanez\\AppData\\Local\\Temp\\ipykernel_5496\\1227533897.py:1: RuntimeWarning: overflow encountered in exp\n",
      "  out['Ratio'] = [10/(1 + 24.4*np.exp(i)) for i in out['Ratio']]\n",
      "C:\\Users\\lucas.corbanez\\AppData\\Local\\Temp\\ipykernel_5496\\1227533897.py:1: RuntimeWarning: overflow encountered in double_scalars\n",
      "  out['Ratio'] = [10/(1 + 24.4*np.exp(i)) for i in out['Ratio']]\n"
     ]
    }
   ],
   "source": [
    "out['Ratio'] = [10/(1 + 24.4*np.exp(i)) for i in out['Ratio']]"
   ]
  },
  {
   "cell_type": "code",
   "execution_count": 313,
   "id": "ac5be8f7-b38b-42bd-8fde-71d4b246ace6",
   "metadata": {},
   "outputs": [
    {
     "data": {
      "image/png": "[encoded data removed]",
      "text/plain": [
       "<Figure size 640x480 with 1 Axes>"
      ]
     },
     "metadata": {},
     "output_type": "display_data"
    }
   ],
   "source": [
    "plt.tricontourf(out['Omega_l'][1::], out['Hubble'][1::], out['Ratio'][1::], cmap = 'gist_heat')\n",
    "\n",
    "plt.xlim(0.55, 0.97)\n",
    "plt.ylim(63, 77)\n",
    "plt.show()"
   ]
  },
  {
   "cell_type": "markdown",
   "id": "0756021c-0b22-41b1-bec8-e28b140747b7",
   "metadata": {
    "jp-MarkdownHeadingCollapsed": true,
    "tags": []
   },
   "source": [
    "# Alternative of grid generating"
   ]
  },
  {
   "cell_type": "markdown",
   "id": "d7857aed-a97d-4115-b8ad-48a47a7cc97e",
   "metadata": {
    "tags": []
   },
   "source": [
    "## Generating a grid centered in a seed value"
   ]
  },
  {
   "cell_type": "code",
   "execution_count": 38,
   "id": "cba1d9a8-de2d-43e3-b1a6-ba236c2636a1",
   "metadata": {},
   "outputs": [],
   "source": [
    "def generate_grid(x, y, z): #(Omega_Lambda, Omega_matter, Hubble)\n",
    "    for i in x:\n",
    "        for j in y:\n",
    "            for k in z:\n",
    "                yield (i, j, k)"
   ]
  },
  {
   "cell_type": "code",
   "execution_count": 41,
   "id": "6d1ada65-702c-4495-a159-b2f6e6562ee3",
   "metadata": {},
   "outputs": [],
   "source": [
    "def free_params_parser(config, grid_size):\n",
    "    if \"Hubble\" not in config['free']:\n",
    "        _grid = generate_grid(\n",
    "            np.linspace(config['grid']['Omega_l'][0], config['grid']['Omega_l'][1], grid_size), \n",
    "            np.linspace(config['grid']['Omega_m'][0], config['grid']['Omega_m'][1], grid_size), \n",
    "            [config['minimum'][2]],\n",
    "        )\n",
    "        return _grid\n",
    "    elif \"Omega_l\" not in config['free']:\n",
    "        _grid = generate_grid(\n",
    "            [config['minimum'][0]], \n",
    "            np.linspace(config['grid']['Omega_m'][0], config['grid']['Omega_m'][1], grid_size), \n",
    "            np.linspace(config['grid']['Hubble'][0], config['grid']['Hubble'][1], grid_size),\n",
    "        )\n",
    "        return _grid\n",
    "    elif \"Omega_m\" not in config['free']:\n",
    "        _grid = generate_grid(\n",
    "            np.linspace(config['grid']['Omega_l'][0], config['grid']['Omega_l'][1], grid_size),\n",
    "            [config['minimum'][1]],\n",
    "            np.linspace(config['grid']['Hubble'][0], config['grid']['Hubble'][1], grid_size),\n",
    "        )\n",
    "        return _grid"
   ]
  },
  {
   "cell_type": "code",
   "execution_count": 42,
   "id": "571bc16f-6b34-49ab-af21-0c403f6cbf23",
   "metadata": {},
   "outputs": [
    {
     "name": "stdout",
     "output_type": "stream",
     "text": [
      "(0.0, 0.26206903, 50.0)\n",
      "(0.0, 0.26206903, 53.333333333333336)\n",
      "(0.0, 0.26206903, 56.666666666666664)\n",
      "(0.0, 0.26206903, 60.0)\n",
      "(0.0, 0.26206903, 63.333333333333336)\n",
      "(0.0, 0.26206903, 66.66666666666667)\n",
      "(0.0, 0.26206903, 70.0)\n",
      "(0.0, 0.26206903, 73.33333333333334)\n",
      "(0.0, 0.26206903, 76.66666666666667)\n",
      "(0.0, 0.26206903, 80.0)\n",
      "(0.1111111111111111, 0.26206903, 50.0)\n",
      "(0.1111111111111111, 0.26206903, 53.333333333333336)\n",
      "(0.1111111111111111, 0.26206903, 56.666666666666664)\n",
      "(0.1111111111111111, 0.26206903, 60.0)\n",
      "(0.1111111111111111, 0.26206903, 63.333333333333336)\n",
      "(0.1111111111111111, 0.26206903, 66.66666666666667)\n",
      "(0.1111111111111111, 0.26206903, 70.0)\n",
      "(0.1111111111111111, 0.26206903, 73.33333333333334)\n",
      "(0.1111111111111111, 0.26206903, 76.66666666666667)\n",
      "(0.1111111111111111, 0.26206903, 80.0)\n",
      "(0.2222222222222222, 0.26206903, 50.0)\n",
      "(0.2222222222222222, 0.26206903, 53.333333333333336)\n",
      "(0.2222222222222222, 0.26206903, 56.666666666666664)\n",
      "(0.2222222222222222, 0.26206903, 60.0)\n",
      "(0.2222222222222222, 0.26206903, 63.333333333333336)\n",
      "(0.2222222222222222, 0.26206903, 66.66666666666667)\n",
      "(0.2222222222222222, 0.26206903, 70.0)\n",
      "(0.2222222222222222, 0.26206903, 73.33333333333334)\n",
      "(0.2222222222222222, 0.26206903, 76.66666666666667)\n",
      "(0.2222222222222222, 0.26206903, 80.0)\n",
      "(0.3333333333333333, 0.26206903, 50.0)\n",
      "(0.3333333333333333, 0.26206903, 53.333333333333336)\n",
      "(0.3333333333333333, 0.26206903, 56.666666666666664)\n",
      "(0.3333333333333333, 0.26206903, 60.0)\n",
      "(0.3333333333333333, 0.26206903, 63.333333333333336)\n",
      "(0.3333333333333333, 0.26206903, 66.66666666666667)\n",
      "(0.3333333333333333, 0.26206903, 70.0)\n",
      "(0.3333333333333333, 0.26206903, 73.33333333333334)\n",
      "(0.3333333333333333, 0.26206903, 76.66666666666667)\n",
      "(0.3333333333333333, 0.26206903, 80.0)\n",
      "(0.4444444444444444, 0.26206903, 50.0)\n",
      "(0.4444444444444444, 0.26206903, 53.333333333333336)\n",
      "(0.4444444444444444, 0.26206903, 56.666666666666664)\n",
      "(0.4444444444444444, 0.26206903, 60.0)\n",
      "(0.4444444444444444, 0.26206903, 63.333333333333336)\n",
      "(0.4444444444444444, 0.26206903, 66.66666666666667)\n",
      "(0.4444444444444444, 0.26206903, 70.0)\n",
      "(0.4444444444444444, 0.26206903, 73.33333333333334)\n",
      "(0.4444444444444444, 0.26206903, 76.66666666666667)\n",
      "(0.4444444444444444, 0.26206903, 80.0)\n",
      "(0.5555555555555556, 0.26206903, 50.0)\n",
      "(0.5555555555555556, 0.26206903, 53.333333333333336)\n",
      "(0.5555555555555556, 0.26206903, 56.666666666666664)\n",
      "(0.5555555555555556, 0.26206903, 60.0)\n",
      "(0.5555555555555556, 0.26206903, 63.333333333333336)\n",
      "(0.5555555555555556, 0.26206903, 66.66666666666667)\n",
      "(0.5555555555555556, 0.26206903, 70.0)\n",
      "(0.5555555555555556, 0.26206903, 73.33333333333334)\n",
      "(0.5555555555555556, 0.26206903, 76.66666666666667)\n",
      "(0.5555555555555556, 0.26206903, 80.0)\n",
      "(0.6666666666666666, 0.26206903, 50.0)\n",
      "(0.6666666666666666, 0.26206903, 53.333333333333336)\n",
      "(0.6666666666666666, 0.26206903, 56.666666666666664)\n",
      "(0.6666666666666666, 0.26206903, 60.0)\n",
      "(0.6666666666666666, 0.26206903, 63.333333333333336)\n",
      "(0.6666666666666666, 0.26206903, 66.66666666666667)\n",
      "(0.6666666666666666, 0.26206903, 70.0)\n",
      "(0.6666666666666666, 0.26206903, 73.33333333333334)\n",
      "(0.6666666666666666, 0.26206903, 76.66666666666667)\n",
      "(0.6666666666666666, 0.26206903, 80.0)\n",
      "(0.7777777777777777, 0.26206903, 50.0)\n",
      "(0.7777777777777777, 0.26206903, 53.333333333333336)\n",
      "(0.7777777777777777, 0.26206903, 56.666666666666664)\n",
      "(0.7777777777777777, 0.26206903, 60.0)\n",
      "(0.7777777777777777, 0.26206903, 63.333333333333336)\n",
      "(0.7777777777777777, 0.26206903, 66.66666666666667)\n",
      "(0.7777777777777777, 0.26206903, 70.0)\n",
      "(0.7777777777777777, 0.26206903, 73.33333333333334)\n",
      "(0.7777777777777777, 0.26206903, 76.66666666666667)\n",
      "(0.7777777777777777, 0.26206903, 80.0)\n",
      "(0.8888888888888888, 0.26206903, 50.0)\n",
      "(0.8888888888888888, 0.26206903, 53.333333333333336)\n",
      "(0.8888888888888888, 0.26206903, 56.666666666666664)\n",
      "(0.8888888888888888, 0.26206903, 60.0)\n",
      "(0.8888888888888888, 0.26206903, 63.333333333333336)\n",
      "(0.8888888888888888, 0.26206903, 66.66666666666667)\n",
      "(0.8888888888888888, 0.26206903, 70.0)\n",
      "(0.8888888888888888, 0.26206903, 73.33333333333334)\n",
      "(0.8888888888888888, 0.26206903, 76.66666666666667)\n",
      "(0.8888888888888888, 0.26206903, 80.0)\n",
      "(1.0, 0.26206903, 50.0)\n",
      "(1.0, 0.26206903, 53.333333333333336)\n",
      "(1.0, 0.26206903, 56.666666666666664)\n",
      "(1.0, 0.26206903, 60.0)\n",
      "(1.0, 0.26206903, 63.333333333333336)\n",
      "(1.0, 0.26206903, 66.66666666666667)\n",
      "(1.0, 0.26206903, 70.0)\n",
      "(1.0, 0.26206903, 73.33333333333334)\n",
      "(1.0, 0.26206903, 76.66666666666667)\n",
      "(1.0, 0.26206903, 80.0)\n"
     ]
    }
   ],
   "source": [
    "with open('config/likelihood_ratio_config.json') as f:\n",
    "    config = json.load(f)\n",
    "    \n",
    "config['minimum'] = [ 0.73654492,  0.26206903, 70.11226543]\n",
    "\n",
    "for i in free_params_parser(config, 10):\n",
    "    print(i)"
   ]
  },
  {
   "cell_type": "code",
   "execution_count": null,
   "id": "7cbc0f5d-8e2e-494b-bc4d-fe59fc7f7e68",
   "metadata": {},
   "outputs": [],
   "source": []
  }
 ],
 "metadata": {
  "kernelspec": {
   "display_name": "Python 3 (ipykernel)",
   "language": "python",
   "name": "python3"
  },
  "language_info": {
   "codemirror_mode": {
    "name": "ipython",
    "version": 3
   },
   "file_extension": ".py",
   "mimetype": "text/x-python",
   "name": "python",
   "nbconvert_exporter": "python",
   "pygments_lexer": "ipython3",
   "version": "3.10.7"
  }
 },
 "nbformat": 4,
 "nbformat_minor": 5
}
