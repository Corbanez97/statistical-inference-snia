{
 "cells": [
  {
   "cell_type": "code",
   "execution_count": 127,
   "id": "e0d951a2-1ea2-4638-849b-012e8ce02f6d",
   "metadata": {},
   "outputs": [],
   "source": [
    "import pandas as pd\n",
    "import numpy as np\n",
    "\n",
    "from scipy.integrate import quad\n",
    "from scipy.optimize import minimize\n",
    "\n",
    "\n",
    "from multiprocessing import Pool\n",
    "from functools import partial\n",
    "import time\n",
    "from datetime import datetime\n",
    "\n",
    "from typing import Dict\n",
    "\n",
    "import json\n",
    "import logging\n",
    "import sys"
   ]
  },
  {
   "cell_type": "code",
   "execution_count": 128,
   "id": "8523b027-5e8a-4d37-a183-53f0da288ef8",
   "metadata": {},
   "outputs": [],
   "source": [
    "sample = json.load(open('data/snls_snia.json'))\n",
    "\n",
    "df = pd.DataFrame(sample)"
   ]
  },
  {
   "cell_type": "code",
   "execution_count": 129,
   "id": "d4a5738c-849e-41d6-9e28-980b3f2d35d2",
   "metadata": {
    "tags": []
   },
   "outputs": [],
   "source": [
    "def Dc(z, Omega_l, Omega_m, Omega_k, w):\n",
    "    def f(z, Omega_l, Omega_m, Omega_k, w):\n",
    "        return (np.sqrt(Omega_l*(1 + z)**(-3 - 3*w) + Omega_m*(1 + z)**3 + Omega_k*(1 + z)**2 + 9.2e-5*(1 + z)**4))**(-1)\n",
    "    return quad(f, 0, z, args = (Omega_l, Omega_m, Omega_k, w))[0]\n",
    "\n",
    "def Dt(z, Omega_l, Omega_m, Omega_k, w):\n",
    "    if Omega_k > 0:\n",
    "        return np.sin(np.sqrt(Omega_k)*Dc(z, Omega_l, Omega_m, Omega_k, w))/np.sqrt(Omega_k)\n",
    "    elif Omega_k == 0:\n",
    "        return Dc(z, Omega_l, Omega_m, Omega_k, w)\n",
    "    elif Omega_k:\n",
    "        return np.sinh(np.sqrt(abs(Omega_k))*Dc(z, Omega_l, Omega_m, Omega_k, w))/np.sqrt(abs(Omega_k))\n",
    "\n",
    "def Dl(z, Omega_l, Omega_m, Omega_k, w):\n",
    "    return (1 + z) * Dt(z, Omega_l, Omega_m, Omega_k, w)\n",
    "               \n",
    "def mu(z, Omega_l, Omega_m, Omega_k, w, Hubble):\n",
    "    c = 3e5 #(km/s)\n",
    "    return 5*np.log10(Dl(z, Omega_l, Omega_m, Omega_k, w)) + 25 + 5*np.log10(c/ Hubble)\n",
    "\n",
    "def chi2_i(mu_o, sigma_o, z_obs, Omega_l, Omega_m, Omega_k, w, Hubble):\n",
    "    return ((mu(z_obs, Omega_l, Omega_m, Omega_k, w, Hubble) - mu_o)**2)/sigma_o**2\n",
    "\n",
    "def chi2(Omega_l, Omega_m, Omega_k, w, Hubble, df): \n",
    "    values = []\n",
    "    for idx in df.index:\n",
    "        values.append(chi2_i(df.mu[idx], df.sigma[idx], df.z[idx], Omega_l, Omega_m, Omega_k, w, Hubble))\n",
    "    return sum(values)\n",
    "\n",
    "def ratio(Omega_l, Omega_m, Omega_k, w, Hubble, df, chi2null):\n",
    "    return chi2(Omega_l, Omega_m, Omega_k, w, Hubble, df) - chi2null"
   ]
  },
  {
   "cell_type": "code",
   "execution_count": 130,
   "id": "02aaddf0-17dd-4e6c-a857-b8f3620a4c6c",
   "metadata": {},
   "outputs": [],
   "source": [
    "def h(x, fixed, df):\n",
    "    \"\"\"\n",
    "    This is a wrapper for the chi2 function. \n",
    "    A workaround to the fact that scipy.optimize.minimize uses positional arguments\n",
    "    \n",
    "        Given a dict of fixed variables, this fuction enables minimize to pass an array of arguments\n",
    "    \"\"\"\n",
    "    \n",
    "    full_parameters = ['Omega_l', 'Omega_m', 'Omega_k', 'w',  'Hubble']\n",
    "    variable_parameters = []\n",
    "    \n",
    "    for param in full_parameters:\n",
    "        if param not in list(fixed.keys()):\n",
    "            variable_parameters.append(param)\n",
    "            \n",
    "    _vars = dict(zip(variable_parameters, x)) # Creates dictionary of variables to be optimized\n",
    "    \n",
    "    \n",
    "    fixed['df'] = df\n",
    "    g = partial(chi2, **fixed) # Creates partial function fixing variables set by `fixed`\n",
    "        \n",
    "    # Unzips `_vars` as named args to `g`\n",
    "    return g(**_vars) "
   ]
  },
  {
   "cell_type": "code",
   "execution_count": 131,
   "id": "186aec24-04fe-4c76-a5b5-7df65ea8cc3e",
   "metadata": {},
   "outputs": [],
   "source": [
    "# Optimizing every variable to find null hypothesis\n",
    "\n",
    "fixed = {}\n",
    "\n",
    "x0 = [0.74, 0.24, 0.02, -1, 71] #['Omega_l', 'Omega_m', 'Omega_k', 'w',  'Hubble']\n",
    "\n",
    "minimum = minimize(h, x0 = x0, args = (fixed, df), method = 'Nelder-Mead', tol = 1e-6, options = {'maxiter': 10000})"
   ]
  },
  {
   "cell_type": "code",
   "execution_count": 132,
   "id": "f8ce205c-1a98-4a23-b09d-ce968d9667bb",
   "metadata": {},
   "outputs": [
    {
     "data": {
      "text/plain": [
       " final_simplex: (array([[ 3.90338078e-01,  1.47505529e-01,  2.51625917e-02,\n",
       "        -9.18027648e-01,  9.34891944e+01],\n",
       "       [ 3.90338082e-01,  1.47505531e-01,  2.51625919e-02,\n",
       "        -9.18027647e-01,  9.34891940e+01],\n",
       "       [ 3.90338082e-01,  1.47505530e-01,  2.51625919e-02,\n",
       "        -9.18027648e-01,  9.34891940e+01],\n",
       "       [ 3.90338079e-01,  1.47505530e-01,  2.51625918e-02,\n",
       "        -9.18027648e-01,  9.34891943e+01],\n",
       "       [ 3.90338084e-01,  1.47505531e-01,  2.51625921e-02,\n",
       "        -9.18027647e-01,  9.34891937e+01],\n",
       "       [ 3.90338077e-01,  1.47505529e-01,  2.51625916e-02,\n",
       "        -9.18027648e-01,  9.34891945e+01]]), array([110.96996089, 110.96996089, 110.96996089, 110.96996089,\n",
       "       110.96996089, 110.96996089]))\n",
       "           fun: 110.9699608910798\n",
       "       message: 'Optimization terminated successfully.'\n",
       "          nfev: 3181\n",
       "           nit: 1995\n",
       "        status: 0\n",
       "       success: True\n",
       "             x: array([ 3.90338078e-01,  1.47505529e-01,  2.51625917e-02, -9.18027648e-01,\n",
       "        9.34891944e+01])"
      ]
     },
     "execution_count": 132,
     "metadata": {},
     "output_type": "execute_result"
    }
   ],
   "source": [
    "minimum"
   ]
  },
  {
   "cell_type": "code",
   "execution_count": null,
   "id": "be26da22-7d5f-462e-9c40-b984ad93169f",
   "metadata": {},
   "outputs": [],
   "source": []
  }
 ],
 "metadata": {
  "kernelspec": {
   "display_name": "Python 3 (ipykernel)",
   "language": "python",
   "name": "python3"
  },
  "language_info": {
   "codemirror_mode": {
    "name": "ipython",
    "version": 3
   },
   "file_extension": ".py",
   "mimetype": "text/x-python",
   "name": "python",
   "nbconvert_exporter": "python",
   "pygments_lexer": "ipython3",
   "version": "3.10.7"
  }
 },
 "nbformat": 4,
 "nbformat_minor": 5
}
