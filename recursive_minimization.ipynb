{
 "cells": [
  {
   "cell_type": "code",
   "execution_count": 1,
   "id": "e0d951a2-1ea2-4638-849b-012e8ce02f6d",
   "metadata": {},
   "outputs": [],
   "source": [
    "import pandas as pd\n",
    "import numpy as np\n",
    "\n",
    "from scipy.integrate import quad\n",
    "from scipy.optimize import minimize\n",
    "\n",
    "\n",
    "from multiprocessing import Pool\n",
    "from functools import partial\n",
    "import time\n",
    "from datetime import datetime\n",
    "\n",
    "from typing import Dict\n",
    "\n",
    "import json\n",
    "import logging\n",
    "import sys"
   ]
  },
  {
   "cell_type": "code",
   "execution_count": 2,
   "id": "8523b027-5e8a-4d37-a183-53f0da288ef8",
   "metadata": {},
   "outputs": [],
   "source": [
    "sample = json.load(open('data/snls_snia.json'))\n",
    "\n",
    "df = pd.DataFrame(sample)"
   ]
  },
  {
   "cell_type": "code",
   "execution_count": 3,
   "id": "d4a5738c-849e-41d6-9e28-980b3f2d35d2",
   "metadata": {
    "tags": []
   },
   "outputs": [],
   "source": [
    "def Dc(z, Omega_l, Omega_m, Omega_k, w):\n",
    "    def f(z, Omega_l, Omega_m, Omega_k, w):\n",
    "        return (np.sqrt(Omega_l*(1 + z)**(-3 - 3*w) + Omega_m*(1 + z)**3 + Omega_k*(1 + z)**2 + 9.2e-5*(1 + z)**4))**(-1)\n",
    "    return quad(f, 0, z, args = (Omega_l, Omega_m, Omega_k, w))[0]\n",
    "\n",
    "def Dt(z, Omega_l, Omega_m, Omega_k, w):\n",
    "    if Omega_k > 0:\n",
    "        return np.sin(np.sqrt(Omega_k)*Dc(z, Omega_l, Omega_m, Omega_k, w))/np.sqrt(Omega_k)\n",
    "    elif Omega_k == 0:\n",
    "        return Dc(z, Omega_l, Omega_m, Omega_k, w)\n",
    "    elif Omega_k:\n",
    "        return np.sinh(np.sqrt(abs(Omega_k))*Dc(z, Omega_l, Omega_m, Omega_k, w))/np.sqrt(abs(Omega_k))\n",
    "\n",
    "def Dl(z, Omega_l, Omega_m, Omega_k, w):\n",
    "    return (1 + z) * Dt(z, Omega_l, Omega_m, Omega_k, w)\n",
    "               \n",
    "def mu(z, Omega_l, Omega_m, Omega_k, w, Hubble):\n",
    "    c = 3e5 #(km/s)\n",
    "    return 5*np.log10(Dl(z, Omega_l, Omega_m, Omega_k, w)) + 25 + 5*np.log10(c/ Hubble)\n",
    "\n",
    "def chi2_i(mu_o, sigma_o, z_obs, Omega_l, Omega_m, Omega_k, w, Hubble):\n",
    "    return ((mu(z_obs, Omega_l, Omega_m, Omega_k, w, Hubble) - mu_o)**2)/sigma_o**2\n",
    "\n",
    "def chi2(Omega_l, Omega_m, Omega_k, w, Hubble, df): \n",
    "    values = []\n",
    "    for idx in df.index:\n",
    "        values.append(chi2_i(df.mu[idx], df.sigma[idx], df.z[idx], Omega_l, Omega_m, Omega_k, w, Hubble))\n",
    "    return sum(values)\n",
    "\n",
    "def ratio(Omega_l, Omega_m, Omega_k, w, Hubble, df, chi2null):\n",
    "    return chi2(Omega_l, Omega_m, Omega_k, w, Hubble, df) - chi2null"
   ]
  },
  {
   "cell_type": "code",
   "execution_count": 4,
   "id": "f7359727-5dd6-4fe0-b9d1-6194cec4b85d",
   "metadata": {},
   "outputs": [],
   "source": [
    "def _zip_vars(fixed: dict, x) -> dict:\n",
    "    full_parameters = ['Omega_l', 'Omega_m', 'Omega_k', 'w',  'Hubble']\n",
    "    variable_parameters = []\n",
    "    for param in full_parameters:\n",
    "        if param not in list(fixed.keys()):\n",
    "            variable_parameters.append(param)\n",
    "            \n",
    "    _vars = dict(zip(variable_parameters, x))\n",
    "    return _vars"
   ]
  },
  {
   "cell_type": "code",
   "execution_count": 19,
   "id": "02aaddf0-17dd-4e6c-a857-b8f3620a4c6c",
   "metadata": {},
   "outputs": [],
   "source": [
    "def h(x, fixed, df):\n",
    "    \"\"\"\n",
    "    This is a wrapper for the chi2 function. \n",
    "    A workaround to the fact that scipy.optimize.minimize uses positional arguments\n",
    "    \n",
    "        Given a dict of fixed variables, this fuction enables minimize to pass an array of arguments\n",
    "    \"\"\"\n",
    "    \n",
    "     # Creates dictionary of variables to be optimized\n",
    "    _vars = _zip_vars(fixed, x)\n",
    "\n",
    "    # fixed['df'] = df\n",
    "    g = partial(chi2, df = df, **fixed) # Creates partial function fixing variables set by `fixed`\n",
    "        \n",
    "    # Unzips `_vars` as named args to `g`\n",
    "    return g(**_vars) "
   ]
  },
  {
   "cell_type": "code",
   "execution_count": 27,
   "id": "fd708106-4919-4f30-ac2b-f364f33cc462",
   "metadata": {},
   "outputs": [],
   "source": [
    "config = json.load(open('config/likelihood_ratio_config.json'))\n",
    "\n",
    "config['df'] = df\n",
    "\n",
    "grid_size = config['grid_sizes'][0]\n",
    "\n",
    "def generate_grid(config, grid_size):\n",
    "    fixed = {}\n",
    "    x0 = config['minimization_seed']\n",
    "    for i in np.linspace(config['grid'][config['free'][0]][0], config['grid'][config['free'][0]][1], grid_size):\n",
    "        fixed[config['free'][0]] = i\n",
    "        for j in np.linspace(config['grid'][config['free'][1]][0], config['grid'][config['free'][1]][1], grid_size):\n",
    "            fixed[config['free'][1]] = j\n",
    "            \n",
    "            minimum = minimize(h, x0 = x0, args = (fixed, config['df']), method = 'Nelder-Mead', tol = 1e-6)\n",
    "            x0 = minimum.x\n",
    "            \n",
    "            _vars = _zip_vars(fixed, minimum.x)\n",
    "            \n",
    "            keys = ['Omega_l', 'Omega_m', 'Omega_k', 'w', 'Hubble']\n",
    "            values = [fixed.get(key,  _vars.get(key)) for key in keys]\n",
    "            \n",
    "            yield tuple(values)\n",
    "            \n",
    "# for i,j,k,l,m in generate_grid(config, grid_size):\n",
    "#     print(i,j,k,l,m)"
   ]
  },
  {
   "cell_type": "code",
   "execution_count": 31,
   "id": "186aec24-04fe-4c76-a5b5-7df65ea8cc3e",
   "metadata": {},
   "outputs": [],
   "source": [
    "# Optimizing every variable to find null hypothesis\n",
    "\n",
    "fixed = {'w':-1}\n",
    "\n",
    "x0 = [0.76, 0.24, 0.02, 71] #['Omega_l', 'Omega_m', 'Omega_k', 'w',  'Hubble']\n",
    "\n",
    "minimum = minimize(h, x0 = x0, args = (fixed, df), method = 'Nelder-Mead', tol = 1e-6, options = {'maxiter': 10000})"
   ]
  },
  {
   "cell_type": "code",
   "execution_count": 32,
   "id": "a8503639-4ab6-46b7-87fc-608e7a03d4f2",
   "metadata": {},
   "outputs": [
    {
     "data": {
      "text/plain": [
       "array([ 5.42698378e-02, -2.43879477e-01,  4.82269089e-01,  1.29495160e+02])"
      ]
     },
     "execution_count": 32,
     "metadata": {},
     "output_type": "execute_result"
    }
   ],
   "source": [
    "minimum.x"
   ]
  },
  {
   "cell_type": "code",
   "execution_count": 33,
   "id": "73a44e36-af5c-4bf0-b622-98f99fa7f0a3",
   "metadata": {},
   "outputs": [
    {
     "data": {
      "text/plain": [
       " final_simplex: (array([[ 5.42698378e-02, -2.43879477e-01,  4.82269089e-01,\n",
       "         1.29495160e+02],\n",
       "       [ 5.42698343e-02, -2.43879480e-01,  4.82269092e-01,\n",
       "         1.29495160e+02],\n",
       "       [ 5.42698338e-02, -2.43879480e-01,  4.82269093e-01,\n",
       "         1.29495160e+02],\n",
       "       [ 5.42698340e-02, -2.43879480e-01,  4.82269093e-01,\n",
       "         1.29495160e+02],\n",
       "       [ 5.42698320e-02, -2.43879481e-01,  4.82269095e-01,\n",
       "         1.29495161e+02]]), array([110.79524005, 110.79524005, 110.79524005, 110.79524005,\n",
       "       110.79524005]))\n",
       "           fun: 110.79524004671357\n",
       "       message: 'Optimization terminated successfully.'\n",
       "          nfev: 1503\n",
       "           nit: 902\n",
       "        status: 0\n",
       "       success: True\n",
       "             x: array([ 5.42698378e-02, -2.43879477e-01,  4.82269089e-01,  1.29495160e+02])"
      ]
     },
     "execution_count": 33,
     "metadata": {},
     "output_type": "execute_result"
    }
   ],
   "source": [
    "minimum"
   ]
  },
  {
   "cell_type": "code",
   "execution_count": null,
   "id": "9ee992ef-c307-44da-8804-c02dc6559676",
   "metadata": {},
   "outputs": [],
   "source": []
  }
 ],
 "metadata": {
  "kernelspec": {
   "display_name": "Python 3 (ipykernel)",
   "language": "python",
   "name": "python3"
  },
  "language_info": {
   "codemirror_mode": {
    "name": "ipython",
    "version": 3
   },
   "file_extension": ".py",
   "mimetype": "text/x-python",
   "name": "python",
   "nbconvert_exporter": "python",
   "pygments_lexer": "ipython3",
   "version": "3.10.7"
  }
 },
 "nbformat": 4,
 "nbformat_minor": 5
}
