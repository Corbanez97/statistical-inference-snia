{
 "cells": [
  {
   "cell_type": "markdown",
   "id": "77694f54-2e02-4a39-b0e9-3427b3fbf118",
   "metadata": {},
   "source": [
    "# Imports"
   ]
  },
  {
   "cell_type": "code",
   "execution_count": 1,
   "id": "ca5b009a-3bda-4e52-8f15-78a8b9990c1c",
   "metadata": {
    "tags": []
   },
   "outputs": [],
   "source": [
    "import pandas as pd\n",
    "import numpy as np\n",
    "from scipy.integrate import quad\n",
    "from scipy.optimize import minimize\n",
    "from scipy.stats import norm\n",
    "import scipy.stats as stats\n",
    "import matplotlib.pyplot as plt"
   ]
  },
  {
   "cell_type": "code",
   "execution_count": 2,
   "id": "0fe92ebc-48f9-4127-9d89-aabab1e489d0",
   "metadata": {},
   "outputs": [],
   "source": [
    "from pylab import rcParams\n",
    "rcParams['figure.figsize'] = 14, 14"
   ]
  },
  {
   "cell_type": "markdown",
   "id": "29a7b248-c03c-47fe-a6b4-3373ab6fe29d",
   "metadata": {},
   "source": [
    "# Data"
   ]
  },
  {
   "cell_type": "markdown",
   "id": "a1d63af0-7e87-4e1c-aeb9-a06e676e7765",
   "metadata": {},
   "source": [
    "The following data was taken from the [*NumCosmo*](https://github.com/NumCosmo/NumCosmo) repository."
   ]
  },
  {
   "cell_type": "code",
   "execution_count": 3,
   "id": "6c988676-df94-4e63-825c-461bf186786b",
   "metadata": {
    "tags": []
   },
   "outputs": [],
   "source": [
    "sample ={'mu': [34.117469999999997, 34.082340000000002, 34.070259999999998, 34.404829999999997, 34.128639999999997, 34.451230000000002, 34.318800000000003, 34.215560000000004, 34.161239999999999, 34.488590000000002, 34.575380000000003, 34.493369999999999, 34.940350000000002, 35.145130000000002, 35.249839999999999, 35.227229999999999, 34.93018, 35.191389999999998, 35.352319999999999, 35.34151, 35.56503, 35.14931, 35.994030000000002, 35.821800000000003, 35.558, 35.531300000000002, 35.78839, 35.836199999999998, 36.112879999999997, 36.28389, 36.275149999999996, 36.727640000000001, 36.382930000000002, 36.82694, 36.631860000000003, 36.793500000000002, 36.60604, 37.540019999999998, 37.603360000000002, 37.641710000000003, 37.464709999999997, 38.12106, 38.43656, 38.88447, 40.570869999999999, 40.682099999999998, 40.730200000000004, 40.998739999999998, 40.945410000000003, 41.25853, 41.322809999999997, 41.36636, 41.440710000000003, 41.473939999999999, 41.48489, 41.48789, 41.771929999999998, 41.775739999999999, 41.86542, 42.037439999999997, 42.030110000000001, 42.08907, 42.267910000000001, 42.17991, 42.428370000000001, 42.439010000000003, 42.643340000000002, 42.591529999999999, 42.824269999999999, 42.486130000000003, 42.461010000000002, 42.51052, 42.46461, 42.760820000000002, 42.880760000000002, 42.561369999999997, 42.514989999999997, 42.79513, 42.960189999999997, 43.02993, 42.745910000000002, 43.13241, 43.022689999999997, 43.397129999999997, 43.0456, 43.143700000000003, 43.022579999999998, 43.236460000000001, 43.17559, 43.208649999999999, 43.28689, 43.426960000000001, 43.169130000000003, 43.452640000000002, 43.353000000000002, 43.489539999999998, 43.691070000000003, 43.94979, 43.651919999999997, 43.531529999999997, 43.543680000000002, 44.41386, 43.474789999999999, 43.870280000000001, 44.094340000000003, 43.707729999999998, 44.258890000000001, 44.552239999999998, 44.429130000000001, 43.506959999999999, 43.953150000000001, 43.62209, 43.999270000000003, 43.940669999999997, 44.672240000000002], \n",
    "        'sigma': [0.19292000000000001, 0.19033, 0.19617999999999999, 0.18698999999999999, 0.18648000000000001, 0.18865000000000001, 0.18634999999999999, 0.18315999999999999, 0.18215000000000001, 0.18018999999999999, 0.17867, 0.17172999999999999, 0.16571, 0.16145999999999999, 0.16600999999999999, 0.16137000000000001, 0.15934000000000001, 0.15994, 0.16148999999999999, 0.15581999999999999, 0.19253999999999999, 0.15323999999999999, 0.15362000000000001, 0.24753, 0.15085999999999999, 0.15947, 0.15057999999999999, 0.14807999999999999, 0.14657999999999999, 0.14294999999999999, 0.14374000000000001, 0.14305999999999999, 0.14054, 0.14433000000000001, 0.13855999999999999, 0.13921, 0.14169999999999999, 0.13900000000000001, 0.1394, 0.14005999999999999, 0.13743, 0.13893, 0.14224999999999999, 0.14007, 0.13249, 0.13172, 0.13195000000000001, 0.13503999999999999, 0.13167999999999999, 0.13138, 0.13161999999999999, 0.13266, 0.13228999999999999, 0.13173000000000001, 0.13203000000000001, 0.13446, 0.13369, 0.13657, 0.13833000000000001, 0.13447000000000001, 0.14319000000000001, 0.13549, 0.13478999999999999, 0.13639999999999999, 0.13677, 0.14183999999999999, 0.14221, 0.15515000000000001, 0.15376000000000001, 0.14235999999999999, 0.13555, 0.13421, 0.14868999999999999, 0.13919000000000001, 0.14176, 0.15886, 0.13417999999999999, 0.13671, 0.14465, 0.14410000000000001, 0.13569000000000001, 0.14562, 0.14354, 0.15769, 0.14005000000000001, 0.18895999999999999, 0.15690000000000001, 0.18373, 0.15179999999999999, 0.16864999999999999, 0.15110000000000001, 0.17566000000000001, 0.15923999999999999, 0.14326, 0.15151000000000001, 0.15898000000000001, 0.32857999999999998, 0.29466999999999999, 0.28556999999999999, 0.33106999999999998, 0.25391999999999998, 0.37047000000000002, 0.22628999999999999, 0.36829000000000001, 0.32807999999999998, 0.28938999999999998, 0.36984, 0.40148, 0.44995000000000002, 0.30181999999999998, 0.29831000000000002, 0.26844000000000001, 0.31807000000000002, 0.51326000000000005, 0.54895000000000005], \n",
    "        'z': [0.015429999999999999, 0.015879999999999998, 0.016150000000000001, 0.016310000000000002, 0.016449999999999999, 0.01661, 0.016830000000000001, 0.01721, 0.017340000000000001, 0.017649999999999999, 0.01814, 0.01983, 0.021839999999999998, 0.023230000000000001, 0.02351, 0.024160000000000001, 0.024559999999999998, 0.024819999999999998, 0.025940000000000001, 0.02605, 0.02632, 0.027900000000000001, 0.029610000000000001, 0.030130000000000001, 0.03057, 0.030630000000000001, 0.031559999999999998, 0.034799999999999998, 0.036490000000000002, 0.039280000000000002, 0.042909999999999997, 0.04512, 0.048759999999999998, 0.050099999999999999, 0.050220000000000001, 0.052979999999999999, 0.053710000000000001, 0.06336, 0.070760000000000003, 0.074789999999999995, 0.078850000000000003, 0.087760000000000005, 0.10083, 0.12470000000000001, 0.24859999999999999, 0.26300000000000001, 0.28499999999999998, 0.29120000000000001, 0.33100000000000002, 0.33729999999999999, 0.3402, 0.34599999999999997, 0.35699999999999998, 0.35780000000000001, 0.36899999999999999, 0.37090000000000001, 0.41499999999999998, 0.42999999999999999, 0.44900000000000001, 0.45100000000000001, 0.4607, 0.4627, 0.46999999999999997, 0.496, 0.50429999999999997, 0.52100000000000002, 0.52600000000000002, 0.53200000000000003, 0.54800000000000004, 0.55000000000000004, 0.55159999999999998, 0.55700000000000005, 0.57099999999999995, 0.58099999999999996, 0.58169999999999999, 0.59199999999999997, 0.60399999999999998, 0.60999999999999999, 0.61299999999999999, 0.62, 0.62680000000000002, 0.63300000000000001, 0.64300000000000002, 0.67900000000000005, 0.68799999999999994, 0.69099999999999995, 0.69499999999999995, 0.70699999999999996, 0.70999999999999996, 0.72099999999999997, 0.72999999999999998, 0.74099999999999999, 0.752, 0.75600000000000001, 0.79100000000000004, 0.80000000000000004, 0.81000000000000005, 0.81100000000000005, 0.81699999999999995, 0.81799999999999995, 0.82179999999999997, 0.82999999999999996, 0.83999999999999997, 0.86799999999999999, 0.87, 0.90500000000000003, 0.91000000000000003, 0.92710000000000004, 0.93000000000000005, 0.94899999999999995, 0.94999999999999996, 0.95999999999999996, 0.96099999999999997, 0.98299999999999998, 1.01]\n",
    "         }"
   ]
  },
  {
   "cell_type": "code",
   "execution_count": 4,
   "id": "f1fd74bc-4edd-4e6c-a9e4-731f590a0d6a",
   "metadata": {},
   "outputs": [],
   "source": [
    "df = pd.DataFrame(sample)"
   ]
  },
  {
   "cell_type": "code",
   "execution_count": 5,
   "id": "ef0f8ca4-e975-432c-901a-43f434c4f976",
   "metadata": {},
   "outputs": [
    {
     "data": {
      "text/html": [
       "<div>\n",
       "<style scoped>\n",
       "    .dataframe tbody tr th:only-of-type {\n",
       "        vertical-align: middle;\n",
       "    }\n",
       "\n",
       "    .dataframe tbody tr th {\n",
       "        vertical-align: top;\n",
       "    }\n",
       "\n",
       "    .dataframe thead th {\n",
       "        text-align: right;\n",
       "    }\n",
       "</style>\n",
       "<table border=\"1\" class=\"dataframe\">\n",
       "  <thead>\n",
       "    <tr style=\"text-align: right;\">\n",
       "      <th></th>\n",
       "      <th>mu</th>\n",
       "      <th>sigma</th>\n",
       "      <th>z</th>\n",
       "    </tr>\n",
       "  </thead>\n",
       "  <tbody>\n",
       "    <tr>\n",
       "      <th>0</th>\n",
       "      <td>34.11747</td>\n",
       "      <td>0.19292</td>\n",
       "      <td>0.01543</td>\n",
       "    </tr>\n",
       "    <tr>\n",
       "      <th>1</th>\n",
       "      <td>34.08234</td>\n",
       "      <td>0.19033</td>\n",
       "      <td>0.01588</td>\n",
       "    </tr>\n",
       "    <tr>\n",
       "      <th>2</th>\n",
       "      <td>34.07026</td>\n",
       "      <td>0.19618</td>\n",
       "      <td>0.01615</td>\n",
       "    </tr>\n",
       "    <tr>\n",
       "      <th>3</th>\n",
       "      <td>34.40483</td>\n",
       "      <td>0.18699</td>\n",
       "      <td>0.01631</td>\n",
       "    </tr>\n",
       "    <tr>\n",
       "      <th>4</th>\n",
       "      <td>34.12864</td>\n",
       "      <td>0.18648</td>\n",
       "      <td>0.01645</td>\n",
       "    </tr>\n",
       "    <tr>\n",
       "      <th>...</th>\n",
       "      <td>...</td>\n",
       "      <td>...</td>\n",
       "      <td>...</td>\n",
       "    </tr>\n",
       "    <tr>\n",
       "      <th>110</th>\n",
       "      <td>43.95315</td>\n",
       "      <td>0.29831</td>\n",
       "      <td>0.95000</td>\n",
       "    </tr>\n",
       "    <tr>\n",
       "      <th>111</th>\n",
       "      <td>43.62209</td>\n",
       "      <td>0.26844</td>\n",
       "      <td>0.96000</td>\n",
       "    </tr>\n",
       "    <tr>\n",
       "      <th>112</th>\n",
       "      <td>43.99927</td>\n",
       "      <td>0.31807</td>\n",
       "      <td>0.96100</td>\n",
       "    </tr>\n",
       "    <tr>\n",
       "      <th>113</th>\n",
       "      <td>43.94067</td>\n",
       "      <td>0.51326</td>\n",
       "      <td>0.98300</td>\n",
       "    </tr>\n",
       "    <tr>\n",
       "      <th>114</th>\n",
       "      <td>44.67224</td>\n",
       "      <td>0.54895</td>\n",
       "      <td>1.01000</td>\n",
       "    </tr>\n",
       "  </tbody>\n",
       "</table>\n",
       "<p>115 rows × 3 columns</p>\n",
       "</div>"
      ],
      "text/plain": [
       "           mu    sigma        z\n",
       "0    34.11747  0.19292  0.01543\n",
       "1    34.08234  0.19033  0.01588\n",
       "2    34.07026  0.19618  0.01615\n",
       "3    34.40483  0.18699  0.01631\n",
       "4    34.12864  0.18648  0.01645\n",
       "..        ...      ...      ...\n",
       "110  43.95315  0.29831  0.95000\n",
       "111  43.62209  0.26844  0.96000\n",
       "112  43.99927  0.31807  0.96100\n",
       "113  43.94067  0.51326  0.98300\n",
       "114  44.67224  0.54895  1.01000\n",
       "\n",
       "[115 rows x 3 columns]"
      ]
     },
     "execution_count": 5,
     "metadata": {},
     "output_type": "execute_result"
    }
   ],
   "source": [
    "df"
   ]
  },
  {
   "cell_type": "markdown",
   "id": "18e0ca6e-e42a-4e24-b526-7a4b3dc08e0b",
   "metadata": {},
   "source": [
    "# Functions"
   ]
  },
  {
   "cell_type": "code",
   "execution_count": 6,
   "id": "08b23aae-c1d3-427f-8048-857d2525ba33",
   "metadata": {},
   "outputs": [],
   "source": [
    "c = 3e5 #(km/s)\n",
    "\n",
    "def Dc(z, params):\n",
    "    if len(params) == 3:\n",
    "        def f(z, params):\n",
    "            return (np.sqrt(params[0] + params[1]*(1 + z)**3))**(-1)\n",
    "        return quad(f, 0, z, args = params[0:2])[0]\n",
    "    else:\n",
    "        def f(z, params):\n",
    "            return (np.sqrt(params[0] + params[1]*(1 + z)**3 + params[3]*(1 + z)**2 + params[4]*(1 + z)**4))**(-1)\n",
    "        return quad(f, 0, z, args = params)[0]\n",
    "\n",
    "def Dt(z, params):\n",
    "    if len(params) == 3:\n",
    "        return Dc(z, params)\n",
    "    else:\n",
    "        return np.sinh(np.sqrt(params[3])*Dc(z, params))/np.sqrt(params[3])\n",
    "\n",
    "def Dl(z, params):\n",
    "    return (1 + z) * Dt(z, params)\n",
    "               \n",
    "def mu(z, params):\n",
    "    return 5*np.log10(Dl(z, params)) + 25 + 5*np.log10(c/ params[2])\n",
    "\n",
    "def chi2_i(mu_o, sigma_o, z_obs, params):\n",
    "    return ((mu(z_obs, params) - mu_o)**2)/sigma_o**2\n",
    "\n",
    "def chi2(params, df):\n",
    "    values = []\n",
    "    for idx in df.index:\n",
    "        values.append(chi2_i(df.mu[idx], df.sigma[idx], df.z[idx], params))\n",
    "    return sum(values)"
   ]
  },
  {
   "cell_type": "markdown",
   "id": "aec16792-26e3-43ed-a01a-3115b9924d28",
   "metadata": {},
   "source": [
    "# Item a)"
   ]
  },
  {
   "cell_type": "markdown",
   "id": "2c0a98e3-1e4d-4575-a056-89a631b97d0e",
   "metadata": {},
   "source": [
    "## Maximum Likelihood Parameters"
   ]
  },
  {
   "cell_type": "code",
   "execution_count": 7,
   "id": "1a0d3ba2-d2fb-4a17-9d5b-52612c3bde67",
   "metadata": {},
   "outputs": [
    {
     "name": "stdout",
     "output_type": "stream",
     "text": [
      "Result of minimization: \n",
      "  final_simplex: (array([[ 0.73654492,  0.26206903, 70.11226543],\n",
      "       [ 0.73654494,  0.26206903, 70.11226469],\n",
      "       [ 0.73654495,  0.26206904, 70.11226449],\n",
      "       [ 0.73654494,  0.26206903, 70.11226497]]), array([110.99870476, 110.99870476, 110.99870476, 110.99870476]))\n",
      "           fun: 110.99870476451697\n",
      "       message: 'Optimization terminated successfully.'\n",
      "          nfev: 193\n",
      "           nit: 101\n",
      "        status: 0\n",
      "       success: True\n",
      "             x: array([ 0.73654492,  0.26206903, 70.11226543]) \n",
      "\n",
      "\n",
      "Maximum Likelihood Parameters:\n",
      " Omega_Lambda: 0.736544919860062 \n",
      " Omega_Matter: 0.262069031735748 \n",
      " Hubble: 70.11226542930314\n"
     ]
    }
   ],
   "source": [
    "params = [0.75, 0.25, 71] # params = [Omega Lambda, Omega Matter, Hubble's Constant, Omega Curvature, Omega Radiation]\n",
    "\n",
    "min = minimize(chi2, x0 = params, args = (df), method = 'Nelder-Mead', tol = 1e-6, bounds = ((0,1), (0,1), (0, None)))\n",
    "print('Result of minimization:', '\\n', min, '\\n\\n')\n",
    "print('Maximum Likelihood Parameters:\\n', f'Omega_Lambda: {min.x[0]}', '\\n', f'Omega_Matter: {min.x[1]}', '\\n', f'Hubble: {min.x[2]}')"
   ]
  },
  {
   "cell_type": "markdown",
   "id": "a85c0054-d3fe-4e18-b65e-6e531a3652bc",
   "metadata": {},
   "source": [
    "## Confidence Region for $\\Omega_{\\Lambda}$ and $\\Omega_m$"
   ]
  },
  {
   "cell_type": "code",
   "execution_count": 8,
   "id": "9f59cf5b-f659-47a1-adfc-168ba4420ab8",
   "metadata": {},
   "outputs": [
    {
     "name": "stderr",
     "output_type": "stream",
     "text": [
      "/tmp/ipykernel_14143/96576753.py:6: RuntimeWarning: divide by zero encountered in double_scalars\n",
      "  return (np.sqrt(params[0] + params[1]*(1 + z)**3))**(-1)\n",
      "/tmp/ipykernel_14143/96576753.py:7: IntegrationWarning: The occurrence of roundoff error is detected, which prevents \n",
      "  the requested tolerance from being achieved.  The error may be \n",
      "  underestimated.\n",
      "  return quad(f, 0, z, args = params[0:2])[0]\n"
     ]
    },
    {
     "data": {
      "text/plain": [
       "Text(0, 0.5, '$\\\\Omega_m$')"
      ]
     },
     "execution_count": 8,
     "metadata": {},
     "output_type": "execute_result"
    },
    {
     "data": {
      "image/png": "[encoded data removed]",
      "text/plain": [
       "<Figure size 1008x1008 with 1 Axes>"
      ]
     },
     "metadata": {
      "needs_background": "light"
     },
     "output_type": "display_data"
    }
   ],
   "source": [
    "sigma1, sigma2, sigma3 = 0.6827, 0.9545, 0.9973\n",
    "lambda1, lambda2, lambda3 = stats.chi2.ppf(sigma1, 2), stats.chi2.ppf(sigma2, 2), stats.chi2.ppf(sigma3, 2)\n",
    "\n",
    "chi2null = chi2(min.x, df)\n",
    "\n",
    "deltas = {'omegas': np.linspace(0, 1, 50), 'hubble': np.linspace(50, 100, 50)}\n",
    "\n",
    "for idx in deltas['omegas']:\n",
    "    for idx2 in deltas['omegas']:\n",
    "        params = [idx, idx2, min.x[2]]\n",
    "        chi2alt = chi2(params, df)\n",
    "        \n",
    "        if chi2alt/chi2null < lambda1:\n",
    "            plt.scatter(params[0], params[1], marker = 'x', color = 'red', label = '$3\\sigma$')\n",
    "            \n",
    "        elif lambda1 < chi2alt/chi2null < lambda2:\n",
    "            plt.scatter(params[0], params[1], marker = 'x', color = 'blue', label = '$2\\sigma$')\n",
    "            \n",
    "        elif lambda2< chi2alt/chi2null < lambda3:\n",
    "            plt.scatter(params[0], params[1], marker = 'x', color = 'green', label = '$1\\sigma$')\n",
    "            \n",
    "plt.xlabel('$\\Omega_{\\Lambda}$')\n",
    "plt.ylabel('$\\Omega_m$')"
   ]
  },
  {
   "cell_type": "markdown",
   "id": "f2a883bb-63e1-47fd-8e85-1e22635c0576",
   "metadata": {},
   "source": [
    "# Item b)"
   ]
  },
  {
   "cell_type": "code",
   "execution_count": 9,
   "id": "b436626d-6073-478c-9120-2d33e71cf54b",
   "metadata": {},
   "outputs": [
    {
     "name": "stderr",
     "output_type": "stream",
     "text": [
      "/tmp/ipykernel_14143/96576753.py:17: RuntimeWarning: invalid value encountered in double_scalars\n",
      "  return np.sinh(np.sqrt(params[3])*Dc(z, params))/np.sqrt(params[3])\n"
     ]
    },
    {
     "name": "stdout",
     "output_type": "stream",
     "text": [
      "Result of minimization: \n",
      "  final_simplex: (array([[7.23055253e-01, 2.57253359e-01, 7.07635599e+01, 1.59046285e-13,\n",
      "        8.19018855e-06],\n",
      "       [7.23055248e-01, 2.57253359e-01, 7.07635600e+01, 1.42959034e-13,\n",
      "        8.19018849e-06],\n",
      "       [7.23055262e-01, 2.57253360e-01, 7.07635596e+01, 5.21490265e-13,\n",
      "        8.19018858e-06],\n",
      "       [7.23055286e-01, 2.57253358e-01, 7.07635589e+01, 5.91932193e-14,\n",
      "        8.19018894e-06],\n",
      "       [7.23055263e-01, 2.57253360e-01, 7.07635595e+01, 2.19659340e-13,\n",
      "        8.19018872e-06],\n",
      "       [7.23055285e-01, 2.57253358e-01, 7.07635589e+01, 1.62594464e-13,\n",
      "        8.19018898e-06]]), array([110.99869098, 110.99869098, 110.99869098, 110.99869098,\n",
      "       110.99869098, 110.99869098]))\n",
      "           fun: 110.99869097716469\n",
      "       message: 'Optimization terminated successfully.'\n",
      "          nfev: 784\n",
      "           nit: 471\n",
      "        status: 0\n",
      "       success: True\n",
      "             x: array([7.23055253e-01, 2.57253359e-01, 7.07635599e+01, 1.59046285e-13,\n",
      "       8.19018855e-06]) \n",
      "\n",
      "\n",
      "Maximum Likelihood Parameters:\n",
      " Omega_Lambda: 0.7230552529325318 \n",
      " Omega_Matter: 0.2572533589705206 \n",
      " Omega_Curvature: 1.5904628479408804e-13 \n",
      " Omega_Radiation: 8.190188551419318e-06 \n",
      " Hubble: 70.76355985703253\n"
     ]
    }
   ],
   "source": [
    "params = [0.74, 0.24, 71, 0.02, 1e-5] # params = [Omega Lambda, Omega Matter, Hubble's Constant, Omega Curvature, Omega Radiation]\n",
    "\n",
    "min = minimize(chi2, x0 = params, args = (df), method = 'Nelder-Mead', tol = 1e-6, bounds = ((0,0.77), (0,0.26), (0, None), (0,1), (0,1)))\n",
    "print('Result of minimization:', '\\n', min, '\\n\\n')\n",
    "print('Maximum Likelihood Parameters:\\n', f'Omega_Lambda: {min.x[0]}', '\\n', f'Omega_Matter: {min.x[1]}', '\\n', f'Omega_Curvature: {min.x[3]}', '\\n', f'Omega_Radiation: {min.x[4]}', '\\n', f'Hubble: {min.x[2]}')"
   ]
  },
  {
   "cell_type": "code",
   "execution_count": null,
   "id": "31ad8c7e-1bba-4da7-8de4-fa65071da144",
   "metadata": {},
   "outputs": [],
   "source": []
  }
 ],
 "metadata": {
  "kernelspec": {
   "display_name": "Python 3 (ipykernel)",
   "language": "python",
   "name": "python3"
  },
  "language_info": {
   "codemirror_mode": {
    "name": "ipython",
    "version": 3
   },
   "file_extension": ".py",
   "mimetype": "text/x-python",
   "name": "python",
   "nbconvert_exporter": "python",
   "pygments_lexer": "ipython3",
   "version": "3.10.4"
  }
 },
 "nbformat": 4,
 "nbformat_minor": 5
}
